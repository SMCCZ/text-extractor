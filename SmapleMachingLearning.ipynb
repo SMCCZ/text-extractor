{
 "cells": [
  {
   "cell_type": "code",
   "execution_count": 1,
   "id": "6fca28aa",
   "metadata": {},
   "outputs": [
    {
     "name": "stderr",
     "output_type": "stream",
     "text": [
      "Using CPU. Note: This module is much faster with a GPU.\n",
      "/home/cloudcraftz/anaconda3/lib/python3.9/site-packages/torchvision/models/_utils.py:252: UserWarning: Accessing the model URLs via the internal dictionary of the module is deprecated since 0.13 and will be removed in 0.15. Please access them via the appropriate Weights Enum instead.\n",
      "  warnings.warn(\n",
      "/home/cloudcraftz/anaconda3/lib/python3.9/site-packages/torchvision/models/_utils.py:208: UserWarning: The parameter 'pretrained' is deprecated since 0.13 and will be removed in 0.15, please use 'weights' instead.\n",
      "  warnings.warn(\n",
      "/home/cloudcraftz/anaconda3/lib/python3.9/site-packages/torchvision/models/_utils.py:223: UserWarning: Arguments other than a weight enum or `None` for 'weights' are deprecated since 0.13 and will be removed in 0.15. The current behavior is equivalent to passing `weights=None`.\n",
      "  warnings.warn(msg)\n"
     ]
    },
    {
     "name": "stdout",
     "output_type": "stream",
     "text": [
      "['GRAPHIC JOURNALISM, NOW', 'Optiquc', 'Whats Burning', 'California?', 'TAP', 'TAP', 'TAP', 'oSalind-helfand', 'art: camilo vieco', 'fronf Los Angeles', 'from Bogota']\n"
     ]
    }
   ],
   "source": [
    "import cv2\n",
    "import numpy as np\n",
    "import easyocr\n",
    "\n",
    "\n",
    "\n",
    "reader = easyocr.Reader(['en'],gpu = False) # load once only in memory.\n",
    "\n",
    "\n",
    "\n",
    "image_file_name='MicrosoftTeams-image (2).png'\n",
    "image = cv2.imread(image_file_name)\n",
    "\n",
    "\n",
    "\n",
    "# sharp the edges or image.\n",
    "gray = cv2.cvtColor(image, cv2.COLOR_BGR2GRAY)\n",
    "sharpen_kernel = np.array([[-1,-1,-1], [-1,9,-1], [-1,-1,-1]])\n",
    "sharpen = cv2.filter2D(gray, -1, sharpen_kernel)\n",
    "thresh = cv2.threshold(sharpen, 0, 255, cv2.THRESH_BINARY_INV + cv2.THRESH_OTSU)[1]\n",
    "r_easy_ocr=reader.readtext(thresh,detail=0)\n",
    "print(r_easy_ocr)"
   ]
  }
 ],
 "metadata": {
  "kernelspec": {
   "display_name": "Python 3.9.12 ('base')",
   "language": "python",
   "name": "python3"
  },
  "language_info": {
   "codemirror_mode": {
    "name": "ipython",
    "version": 3
   },
   "file_extension": ".py",
   "mimetype": "text/x-python",
   "name": "python",
   "nbconvert_exporter": "python",
   "pygments_lexer": "ipython3",
   "version": "3.9.12"
  },
  "vscode": {
   "interpreter": {
    "hash": "34723e340364e285e2a18e1db349b03f025578f6576f29d6a3007e9cc2a30bbf"
   }
  }
 },
 "nbformat": 4,
 "nbformat_minor": 5
}
